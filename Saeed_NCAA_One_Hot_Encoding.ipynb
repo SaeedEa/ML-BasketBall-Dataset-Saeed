{
  "nbformat": 4,
  "nbformat_minor": 0,
  "metadata": {
    "colab": {
      "provenance": []
    },
    "kernelspec": {
      "name": "python3",
      "display_name": "Python 3"
    },
    "language_info": {
      "name": "python"
    }
  },
  "cells": [
    {
      "cell_type": "markdown",
      "source": [
        "# One-Hot Encoding for NCAA Women's Basketball Dataset\n"
      ],
      "metadata": {
        "id": "LO-E8HAcpft7"
      }
    },
    {
      "cell_type": "markdown",
      "source": [
        "# Step 1: Import required libraries\n"
      ],
      "metadata": {
        "id": "EIJk3ZvVpGDK"
      }
    },
    {
      "cell_type": "code",
      "source": [
        "import pandas as pd\n"
      ],
      "metadata": {
        "id": "sXWPBbAEpGgp"
      },
      "execution_count": 2,
      "outputs": []
    },
    {
      "cell_type": "markdown",
      "source": [
        "# Step 2: Load the cleansed dataset"
      ],
      "metadata": {
        "id": "16yYiJcYpIR9"
      }
    },
    {
      "cell_type": "code",
      "source": [
        "final_df = pd.read_csv('cleansed_ncaa_wbb_data.csv')\n"
      ],
      "metadata": {
        "id": "J7Z0mR_KpJps"
      },
      "execution_count": 3,
      "outputs": []
    },
    {
      "cell_type": "markdown",
      "source": [
        "# Step 3: Identify categorical variables\n"
      ],
      "metadata": {
        "id": "sxynBfbRpLF9"
      }
    },
    {
      "cell_type": "code",
      "source": [
        "categorical_columns = ['division', 'year_clean', 'state_grouped', 'position_grouped']\n"
      ],
      "metadata": {
        "id": "y3Px1ThppL-4"
      },
      "execution_count": 4,
      "outputs": []
    },
    {
      "cell_type": "markdown",
      "source": [
        "# Step 4: Apply One-Hot Encoding\n"
      ],
      "metadata": {
        "id": "0D2KxWwjpM9P"
      }
    },
    {
      "cell_type": "code",
      "source": [
        "encoded_df = pd.get_dummies(final_df, columns=categorical_columns, drop_first=True)\n"
      ],
      "metadata": {
        "id": "Y_Mvy_-CpODj"
      },
      "execution_count": 5,
      "outputs": []
    },
    {
      "cell_type": "markdown",
      "source": [
        "# Step 5: Save encoded dataset\n"
      ],
      "metadata": {
        "id": "mZcbY8typPPD"
      }
    },
    {
      "cell_type": "code",
      "source": [
        "encoded_df.to_csv('encoded_ncaa_wbb_data.csv', index=False)\n"
      ],
      "metadata": {
        "id": "ptiQxTjipQOr"
      },
      "execution_count": 6,
      "outputs": []
    },
    {
      "cell_type": "markdown",
      "source": [],
      "metadata": {
        "id": "do6dNT0ipRTy"
      }
    },
    {
      "cell_type": "code",
      "source": [
        "print(\"Encoded dataset columns:\")\n",
        "print(encoded_df.columns)\n",
        "print(\"\\nEncoded dataset preview:\")\n",
        "print(encoded_df.head())\n"
      ],
      "metadata": {
        "colab": {
          "base_uri": "https://localhost:8080/"
        },
        "id": "aFwqsHxBpSL7",
        "outputId": "d1a8acc3-957a-45ff-aa4c-5d27811d10d6"
      },
      "execution_count": 7,
      "outputs": [
        {
          "output_type": "stream",
          "name": "stdout",
          "text": [
            "Encoded dataset columns:\n",
            "Index(['total_inches', 'division_II', 'division_III', 'year_clean_freshman',\n",
            "       'year_clean_graduate student', 'year_clean_junior', 'year_clean_senior',\n",
            "       'year_clean_sixth year', 'year_clean_sophomore', 'state_grouped_ar',\n",
            "       'state_grouped_az', 'state_grouped_ca', 'state_grouped_co',\n",
            "       'state_grouped_ct', 'state_grouped_fl', 'state_grouped_ga',\n",
            "       'state_grouped_ia', 'state_grouped_id', 'state_grouped_il',\n",
            "       'state_grouped_in', 'state_grouped_international', 'state_grouped_ks',\n",
            "       'state_grouped_ky', 'state_grouped_la', 'state_grouped_ma',\n",
            "       'state_grouped_md', 'state_grouped_me', 'state_grouped_mi',\n",
            "       'state_grouped_mn', 'state_grouped_mo', 'state_grouped_ms',\n",
            "       'state_grouped_nc', 'state_grouped_ne', 'state_grouped_nh',\n",
            "       'state_grouped_nj', 'state_grouped_ny', 'state_grouped_oh',\n",
            "       'state_grouped_ok', 'state_grouped_or', 'state_grouped_other',\n",
            "       'state_grouped_pa', 'state_grouped_sc', 'state_grouped_sd',\n",
            "       'state_grouped_tn', 'state_grouped_tx', 'state_grouped_ut',\n",
            "       'state_grouped_va', 'state_grouped_wa', 'state_grouped_wi',\n",
            "       'state_grouped_wv', 'position_grouped_forward',\n",
            "       'position_grouped_guard', 'position_grouped_other'],\n",
            "      dtype='object')\n",
            "\n",
            "Encoded dataset preview:\n",
            "   total_inches  division_II  division_III  year_clean_freshman  \\\n",
            "0          63.0        False         False                 True   \n",
            "1          67.0        False         False                 True   \n",
            "2          68.0        False         False                False   \n",
            "3          67.0        False         False                False   \n",
            "4          67.0        False         False                False   \n",
            "\n",
            "   year_clean_graduate student  year_clean_junior  year_clean_senior  \\\n",
            "0                        False              False              False   \n",
            "1                        False              False              False   \n",
            "2                        False              False              False   \n",
            "3                        False               True              False   \n",
            "4                        False              False               True   \n",
            "\n",
            "   year_clean_sixth year  year_clean_sophomore  state_grouped_ar  ...  \\\n",
            "0                  False                 False             False  ...   \n",
            "1                  False                 False             False  ...   \n",
            "2                  False                  True             False  ...   \n",
            "3                  False                 False             False  ...   \n",
            "4                  False                 False             False  ...   \n",
            "\n",
            "   state_grouped_tn  state_grouped_tx  state_grouped_ut  state_grouped_va  \\\n",
            "0             False             False             False             False   \n",
            "1             False             False             False             False   \n",
            "2             False             False             False             False   \n",
            "3             False             False             False             False   \n",
            "4             False             False             False             False   \n",
            "\n",
            "   state_grouped_wa  state_grouped_wi  state_grouped_wv  \\\n",
            "0             False             False             False   \n",
            "1             False             False             False   \n",
            "2              True             False             False   \n",
            "3             False             False             False   \n",
            "4             False             False             False   \n",
            "\n",
            "   position_grouped_forward  position_grouped_guard  position_grouped_other  \n",
            "0                     False                    True                   False  \n",
            "1                     False                    True                   False  \n",
            "2                     False                    True                   False  \n",
            "3                     False                    True                   False  \n",
            "4                     False                    True                   False  \n",
            "\n",
            "[5 rows x 53 columns]\n"
          ]
        }
      ]
    }
  ]
}